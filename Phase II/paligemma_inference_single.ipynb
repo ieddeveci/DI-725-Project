{
 "cells": [
  {
   "cell_type": "code",
   "execution_count": null,
   "id": "fe9bf7dd",
   "metadata": {},
   "outputs": [],
   "source": [
    "import os\n",
    "import pandas as pd\n",
    "from PIL import Image\n",
    "import matplotlib.pyplot as plt\n",
    "import torch\n",
    "from transformers import AutoProcessor, AutoModelForImageTextToText\n",
    "\n",
    "dataset_dir = 'RISCM'\n",
    "images_dir = os.path.join(dataset_dir, 'resized')\n",
    "captions_path = os.path.join(dataset_dir, 'captions.csv')\n",
    "model_name = \"google/paligemma-3b-pt-224\"\n",
    "hf_token = \" \" # Enter huggingface token for permission\n",
    "device = torch.device(\"cuda\" if torch.cuda.is_available() else \"cpu\")\n",
    "\n",
    "df = pd.read_csv(captions_path)\n",
    "df.columns = df.columns.str.strip()\n",
    "\n",
    "def load_image(image_filename):\n",
    "    image_path = os.path.join(images_dir, image_filename.strip())\n",
    "    return Image.open(image_path).convert('RGB')\n",
    "\n",
    "image_index = 5  # Select image by index\n",
    "\n",
    "if image_index < len(df):\n",
    "    row = df.iloc[image_index]\n",
    "    img = load_image(row['image'])\n",
    "    captions = [row[f'caption_{i}'].strip() for i in range(1, 6)]\n",
    "\n",
    "    plt.figure(figsize=(3, 3))\n",
    "    plt.imshow(img)\n",
    "    plt.axis('off')\n",
    "    plt.title(\"\\n\".join(captions), fontsize=10)\n",
    "    plt.tight_layout()\n",
    "    plt.show()"
   ]
  },
  {
   "cell_type": "code",
   "execution_count": null,
   "id": "2cb67dc4",
   "metadata": {},
   "outputs": [],
   "source": [
    "processor = AutoProcessor.from_pretrained(model_name, token=hf_token)\n",
    "model = AutoModelForImageTextToText.from_pretrained(model_name, token=hf_token).to(device)"
   ]
  },
  {
   "cell_type": "code",
   "execution_count": null,
   "id": "5b3f69f8",
   "metadata": {},
   "outputs": [],
   "source": [
    "row = df.iloc[image_index]\n",
    "img = load_image(row['image'])\n",
    "\n",
    "# Print the image\n",
    "plt.figure(figsize=(3, 3))\n",
    "plt.imshow(img)\n",
    "plt.axis('off')\n",
    "plt.title(f\"Image: {row['image']}\", fontsize=10)\n",
    "plt.tight_layout()\n",
    "plt.show()\n",
    "\n",
    "input_text = \"<image>describe this image in detail\\n\"\n",
    "input_text = \"<image>Describe this image in detail\\n\"\n",
    "inputs = processor(text=input_text, images=img, return_tensors=\"pt\", padding=\"longest\", do_convert_rgb=True).to(device)\n",
    "inputs = inputs.to(dtype=model.dtype)\n",
    "\n",
    "# Generate output using the model\n",
    "with torch.no_grad():\n",
    "    output = model.generate(**inputs, max_new_tokens=64)\n",
    "result = processor.decode(output[0], skip_special_tokens=True)\n",
    "print(f\"\\nPaligemma output: {result}\")\n"
   ]
  }
 ],
 "metadata": {
  "kernelspec": {
   "display_name": "Python 3",
   "language": "python",
   "name": "python3"
  },
  "language_info": {
   "codemirror_mode": {
    "name": "ipython",
    "version": 3
   },
   "file_extension": ".py",
   "mimetype": "text/x-python",
   "name": "python",
   "nbconvert_exporter": "python",
   "pygments_lexer": "ipython3",
   "version": "3.9.13"
  }
 },
 "nbformat": 4,
 "nbformat_minor": 5
}
