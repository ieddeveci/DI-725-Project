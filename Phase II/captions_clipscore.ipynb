{
 "cells": [
  {
   "cell_type": "code",
   "execution_count": null,
   "id": "81c826e0",
   "metadata": {},
   "outputs": [],
   "source": [
    "import os\n",
    "import sys\n",
    "import torch\n",
    "import pandas as pd\n",
    "import random\n",
    "from PIL import Image\n",
    "from tqdm import tqdm\n",
    "\n",
    "sys.path.append(os.path.join(os.getcwd(), 'CLIP'))\n",
    "import clip\n",
    "\n",
    "device = \"cuda\" if torch.cuda.is_available() else \"cpu\"\n",
    "model, preprocess = clip.load(\"ViT-B/32\", device=device)\n",
    "model = model.to(device)\n",
    "\n",
    "df = pd.read_csv(\"captions.csv\")\n",
    "image_folder = \"RISCM/resized/\"\n",
    "\n",
    "training_captions = []\n",
    "training_clip_scores = []\n",
    "\n",
    "for idx, row in tqdm(df.iterrows(), total=len(df), desc=\"Selecting best captions\"):\n",
    "    image_path = os.path.join(image_folder, row[\"image\"])\n",
    "    image = Image.open(image_path).convert(\"RGB\")\n",
    "    captions = [str(row[f\"caption_{i}\"]) for i in range(1, 6)]\n",
    "\n",
    "    image_input = preprocess(image).unsqueeze(0).to(device)\n",
    "    text_inputs = clip.tokenize(captions).to(device)\n",
    "\n",
    "    with torch.no_grad():\n",
    "        image_features = model.encode_image(image_input)\n",
    "        text_features = model.encode_text(text_inputs)\n",
    "        similarities = (image_features @ text_features.T).squeeze(0).tolist()\n",
    "\n",
    "    max_score = max(similarities)\n",
    "    best_indices = [i for i, s in enumerate(similarities) if s == max_score]\n",
    "    chosen_index = random.choice(best_indices)\n",
    "\n",
    "    training_captions.append(captions[chosen_index])\n",
    "    training_clip_scores.append(max_score)\n",
    "\n",
    "df[\"training_caption\"] = training_captions\n",
    "df[\"training_clip_score\"] = training_clip_scores\n",
    "df.to_csv(\"captions_cleaned1.csv\", index=False)\n",
    "\n",
    "print(\"Dataset with best captions are saved.\")\n"
   ]
  }
 ],
 "metadata": {
  "kernelspec": {
   "display_name": "Python 3",
   "language": "python",
   "name": "python3"
  },
  "language_info": {
   "codemirror_mode": {
    "name": "ipython",
    "version": 3
   },
   "file_extension": ".py",
   "mimetype": "text/x-python",
   "name": "python",
   "nbconvert_exporter": "python",
   "pygments_lexer": "ipython3",
   "version": "3.9.13"
  }
 },
 "nbformat": 4,
 "nbformat_minor": 5
}
